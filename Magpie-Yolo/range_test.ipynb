{
 "metadata": {
  "language_info": {
   "codemirror_mode": {
    "name": "ipython",
    "version": 3
   },
   "file_extension": ".py",
   "mimetype": "text/x-python",
   "name": "python",
   "nbconvert_exporter": "python",
   "pygments_lexer": "ipython3",
   "version": 3
  },
  "orig_nbformat": 2
 },
 "nbformat": 4,
 "nbformat_minor": 2,
 "cells": [
  {
   "cell_type": "code",
   "execution_count": null,
   "metadata": {},
   "outputs": [],
   "source": [
    "# Investigating how accuracy improves at different distances"
   ]
  },
  {
   "cell_type": "code",
   "execution_count": null,
   "metadata": {},
   "outputs": [],
   "source": [
    "import rtde_control\n",
    "import rtde_receive\n",
    "robotIP = \"192.168.0.6\"\n",
    "con = rtde_control.RTDEControlInterface(robotIP)\n",
    "rec = rtde_receive.RTDEReceiveInterface(robotIP)\n",
    "\n",
    "from magpie import realsense_wrapper as real\n",
    "rsc = real.RealSense()\n",
    "rsc.initConnection()"
   ]
  },
  {
   "cell_type": "code",
   "execution_count": null,
   "metadata": {},
   "outputs": [],
   "source": [
    "from Motor_Code import Motors\n",
    "import UR5_Interface as ur\n",
    "servoPort = \"/dev/ttyACM0\"\n",
    "gripperController = Motors(servoPort)\n",
    "gripperController.torquelimit(600) # used to be 600\n",
    "gripperController.speedlimit(100)\n",
    "ur = ur.UR5_Interface()\n",
    "ur.gripperController = gripperController"
   ]
  },
  {
   "cell_type": "code",
   "execution_count": null,
   "metadata": {},
   "outputs": [],
   "source": [
    "try:\n",
    "    ur.c = con\n",
    "    ur.r = rec\n",
    "    ur.gripperController = gripperController\n",
    "except Exception as e:\n",
    "    raise(e)\n",
    "else:\n",
    "    print(\"UR5 + Gripper Interface Established\")"
   ]
  },
  {
   "cell_type": "code",
   "execution_count": null,
   "metadata": {},
   "outputs": [],
   "source": [
    "# Ensure camera can see/robot is functional\n",
    "ur.openGripper()"
   ]
  },
  {
   "cell_type": "code",
   "execution_count": null,
   "metadata": {},
   "outputs": [],
   "source": [
    "from magpie.perception.label_owlvit import LabelOWLViT\n",
    "path = \"google/owlvit-base-patch32\"\n",
    "label_vit = LabelOWLViT(path)"
   ]
  },
  {
   "cell_type": "code",
   "execution_count": null,
   "metadata": {},
   "outputs": [],
   "source": [
    "from magpie.perception.mask_sam import MaskSAM\n",
    "ckpt = \"/home/streck/work/owlvit_segment_anything/sam_vit_h_4b8939.pth\"\n",
    "mask_sam = MaskSAM(ckpt)"
   ]
  },
  {
   "cell_type": "code",
   "execution_count": null,
   "metadata": {},
   "outputs": [],
   "source": [
    "# Test move forward\n",
    "increm = 0.01 # 1cm\n",
    "\n",
    "queries = [\"a photo of a red cube\"]\n",
    "abbrevq = [\"redBlock\"]\n",
    "\n",
    "label_vit.set_threshold(0.03)\n",
    "\n",
    "for x in range(0,10):\n",
    "    initPose = np.array(ur.getPose())\n",
    "\n",
    "    dX, dY, dZ = increm, 0, 0 # may need to switch increm to dY\n",
    "    goalPose = initPose\n",
    "    goalPose[2][1] += dX \n",
    "    goalPose = sm.SE3(goalPose)\n",
    "\n",
    "    print('Incrementing robot forward')\n",
    "    ur.moveL(sm.SE3(goalPose))\n",
    "\n",
    "    p, rgbd_image = rsc.getPCD()\n",
    "    bboxes, uboxes = label_vit.label(image2, queries, abbrevq, plot=True)"
   ]
  },
  {
   "cell_type": "code",
   "execution_count": null,
   "metadata": {},
   "outputs": [],
   "source": [
    "#p, rgbd_image = rsc.getPCD()\n",
    "\n",
    "#queries = [\"a photo of a red cube\"]\n",
    "\n",
    "#abbrevq = [\"redBlock\"]\n",
    "#label_vit.set_threshold(0.03)\n",
    "#bboxes, uboxes = label_vit.label(image2, queries, abbrevq, plot=True)"
   ]
  }
 ]
}